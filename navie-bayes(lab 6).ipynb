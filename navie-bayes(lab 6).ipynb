{
 "cells": [
  {
   "cell_type": "code",
   "execution_count": 3,
   "metadata": {},
   "outputs": [],
   "source": [
    "import numpy as np\n",
    "import math\n",
    "import csv"
   ]
  },
  {
   "cell_type": "code",
   "execution_count": 4,
   "metadata": {},
   "outputs": [],
   "source": [
    "def read_data(filename):\n",
    "    with open(filename,\"r\") as csvfile:\n",
    "        datareader=csv.reader(csvfile)\n",
    "        traindata=list(datareader)\n",
    "    metadata=traindata[0]    #attributes name\n",
    "    traindata=traindata[1:]  #training examples      \n",
    "    return (metadata, traindata)"
   ]
  },
  {
   "cell_type": "code",
   "execution_count": 5,
   "metadata": {},
   "outputs": [],
   "source": [
    "def splitdataset(dataset, splitratio):\n",
    "    trainsize=int(len(dataset)*splitratio)\n",
    "    trainset=[]\n",
    "    testset=list(dataset)\n",
    "    i=0\n",
    "    while len(trainset)<trainsize:\n",
    "        trainset.append(testset.pop(i))\n",
    "    return [trainset,testset]\n",
    "    "
   ]
  },
  {
   "cell_type": "code",
   "execution_count": 6,
   "metadata": {},
   "outputs": [],
   "source": [
    "def classify(data,test):\n",
    "    totalsize=data.shape[0]\n",
    "    print(\"\\n\")\n",
    "    print(\"training data size=\",totalsize)\n",
    "    print(\"test data size=\",test.shape[0])\n",
    "    \n",
    "    countyes=0\n",
    "    countno=0\n",
    "    probyes=0\n",
    "    probno=0\n",
    "    print(\"\\n\")\n",
    "    print(\"target \\t count \\t probolaity\")\n",
    "    for x in range(data.shape[0]):\n",
    "        if data[x,-1] =='yes':\n",
    "            countyes+=1\n",
    "        if data[x,-1] =='no':\n",
    "            countno+=1\n",
    "    probYes=countyes/totalsize\n",
    "    probNo=countno/totalsize\n",
    "    \n",
    "    print(\"Yes \\t\", countyes,\"\\t\", probYes)\n",
    "    print(\"No \\t\", countno,\"\\t\", probNo)\n",
    "    \n",
    "    prob0=np.zeros((test.shape[1]-1))\n",
    "    prob1=np.zeros((test.shape[1]-1))\n",
    "     \n",
    "    accuracy=0\n",
    "    print(\"\\n\")\n",
    "    print(\"instance \\t prediction \\t target\")\n",
    "    \n",
    "    for t in range(test.shape[0]):\n",
    "        for k in range (test.shape[1]-1):\n",
    "            count1=count0=0\n",
    "            for j in range(data.shape[0]):\n",
    "                #how many times appeared with no\n",
    "                if test[t,k]==data[j,k] and data[j,-1]=='no':\n",
    "                    count0+=1\n",
    "                #how many times appeared with yes\n",
    "                if test[t,k]==data[j,k] and data[j,-1]=='yes':\n",
    "                    count1+=1  \n",
    "            prob0[k]=count0/countno\n",
    "            prob1[k]=count1/countyes\n",
    "                \n",
    "        probno=probNo\n",
    "        probyes=probYes\n",
    "        for i in range(test.shape[1]-1):\n",
    "            probno=probno*prob0[i]\n",
    "            probyes=probyes*prob1[i]\n",
    "        if probno>probyes:\n",
    "            predict='no'\n",
    "        else:\n",
    "            predict='yes'\n",
    "        \n",
    "        print(\"  \",t+1,\" \\t\\t\",predict,\" \\t\\t\",test[t,-1])\n",
    "        if predict==test[t,-1]:\n",
    "            accuracy+=1\n",
    "    finalaccuracy=(accuracy/test.shape[0])*100\n",
    "    print(\"Accuracy=\",finalaccuracy,\"%\")\n",
    "            \n",
    "    "
   ]
  },
  {
   "cell_type": "code",
   "execution_count": 7,
   "metadata": {},
   "outputs": [
    {
     "ename": "FileNotFoundError",
     "evalue": "[Errno 2] No such file or directory: 'D://enjoysport.csv'",
     "output_type": "error",
     "traceback": [
      "\u001b[1;31m---------------------------------------------------------------------------\u001b[0m",
      "\u001b[1;31mFileNotFoundError\u001b[0m                         Traceback (most recent call last)",
      "\u001b[1;32mc:\\Users\\TEJAS PORWAL\\Desktop\\ML LAB\\navie-bayes(lab 6).ipynb Cell 5'\u001b[0m in \u001b[0;36m<cell line: 1>\u001b[1;34m()\u001b[0m\n\u001b[1;32m----> <a href='vscode-notebook-cell:/c%3A/Users/TEJAS%20PORWAL/Desktop/ML%20LAB/navie-bayes%28lab%206%29.ipynb#ch0000004?line=0'>1</a>\u001b[0m metadata,traindata\u001b[39m=\u001b[39mread_data(\u001b[39m\"\u001b[39;49m\u001b[39mD://enjoysport.csv\u001b[39;49m\u001b[39m\"\u001b[39;49m)\n\u001b[0;32m      <a href='vscode-notebook-cell:/c%3A/Users/TEJAS%20PORWAL/Desktop/ML%20LAB/navie-bayes%28lab%206%29.ipynb#ch0000004?line=1'>2</a>\u001b[0m \u001b[39mprint\u001b[39m(\u001b[39m\"\u001b[39m\u001b[39m\\n\u001b[39;00m\u001b[39m The attribute names of training data are:\u001b[39m\u001b[39m\"\u001b[39m,metadata)\n\u001b[0;32m      <a href='vscode-notebook-cell:/c%3A/Users/TEJAS%20PORWAL/Desktop/ML%20LAB/navie-bayes%28lab%206%29.ipynb#ch0000004?line=2'>3</a>\u001b[0m splitratio\u001b[39m=\u001b[39m\u001b[39m0.7\u001b[39m\n",
      "\u001b[1;32mc:\\Users\\TEJAS PORWAL\\Desktop\\ML LAB\\navie-bayes(lab 6).ipynb Cell 2'\u001b[0m in \u001b[0;36mread_data\u001b[1;34m(filename)\u001b[0m\n\u001b[0;32m      <a href='vscode-notebook-cell:/c%3A/Users/TEJAS%20PORWAL/Desktop/ML%20LAB/navie-bayes%28lab%206%29.ipynb#ch0000001?line=0'>1</a>\u001b[0m \u001b[39mdef\u001b[39;00m \u001b[39mread_data\u001b[39m(filename):\n\u001b[1;32m----> <a href='vscode-notebook-cell:/c%3A/Users/TEJAS%20PORWAL/Desktop/ML%20LAB/navie-bayes%28lab%206%29.ipynb#ch0000001?line=1'>2</a>\u001b[0m     \u001b[39mwith\u001b[39;00m \u001b[39mopen\u001b[39;49m(filename,\u001b[39m\"\u001b[39;49m\u001b[39mr\u001b[39;49m\u001b[39m\"\u001b[39;49m) \u001b[39mas\u001b[39;00m csvfile:\n\u001b[0;32m      <a href='vscode-notebook-cell:/c%3A/Users/TEJAS%20PORWAL/Desktop/ML%20LAB/navie-bayes%28lab%206%29.ipynb#ch0000001?line=2'>3</a>\u001b[0m         datareader\u001b[39m=\u001b[39mcsv\u001b[39m.\u001b[39mreader(csvfile)\n\u001b[0;32m      <a href='vscode-notebook-cell:/c%3A/Users/TEJAS%20PORWAL/Desktop/ML%20LAB/navie-bayes%28lab%206%29.ipynb#ch0000001?line=3'>4</a>\u001b[0m         traindata\u001b[39m=\u001b[39m\u001b[39mlist\u001b[39m(datareader)\n",
      "\u001b[1;31mFileNotFoundError\u001b[0m: [Errno 2] No such file or directory: 'D://enjoysport.csv'"
     ]
    }
   ],
   "source": [
    "metadata,traindata=read_data(\"D://enjoysport.csv\")\n",
    "print(\"\\n The attribute names of training data are:\",metadata)\n",
    "splitratio=0.7\n",
    "trainset, testset=splitdataset(traindata, splitratio)\n",
    "training=np.array(trainset)\n",
    "print(\"\\n The Training data set are:\")\n",
    "for x in training:\n",
    "    print(x)\n",
    "\n",
    "testing=np.array(testset)\n",
    "print(\"\\n The Test data set are:\")\n",
    "for x in testing:\n",
    "    print(x)\n",
    "    \n",
    "classify(training, testing)"
   ]
  },
  {
   "cell_type": "code",
   "execution_count": null,
   "metadata": {},
   "outputs": [],
   "source": []
  },
  {
   "cell_type": "code",
   "execution_count": null,
   "metadata": {},
   "outputs": [],
   "source": []
  }
 ],
 "metadata": {
  "kernelspec": {
   "display_name": "Python 3.10.4 64-bit",
   "language": "python",
   "name": "python3"
  },
  "language_info": {
   "codemirror_mode": {
    "name": "ipython",
    "version": 3
   },
   "file_extension": ".py",
   "mimetype": "text/x-python",
   "name": "python",
   "nbconvert_exporter": "python",
   "pygments_lexer": "ipython3",
   "version": "3.10.4"
  },
  "vscode": {
   "interpreter": {
    "hash": "214f069dde2eeee1fef7342a2916bf814b70e8fdfa3563ceae79deceef3d5135"
   }
  }
 },
 "nbformat": 4,
 "nbformat_minor": 4
}
